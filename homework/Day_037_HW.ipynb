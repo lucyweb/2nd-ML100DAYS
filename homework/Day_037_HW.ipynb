{
 "cells": [
  {
   "cell_type": "markdown",
   "metadata": {
    "colab_type": "text",
    "id": "ad3YvDl9dx-P"
   },
   "source": [
    "## [作業重點]\n",
    "了解線性回歸的模型發展歷程，並了解優勢與劣勢，以及其使用情境"
   ]
  },
  {
   "cell_type": "markdown",
   "metadata": {
    "colab_type": "text",
    "id": "8OJMSpB6dx-Q"
   },
   "source": [
    "## 作業"
   ]
  },
  {
   "cell_type": "markdown",
   "metadata": {
    "colab_type": "text",
    "id": "LCYBxo94dx-Q"
   },
   "source": [
    "請閱讀以下相關文獻，並回答以下問題\n",
    "\n",
    "[Linear Regression 詳細介紹](https://medium.com/@yehjames/%E8%B3%87%E6%96%99%E5%88%86%E6%9E%90-%E6%A9%9F%E5%99%A8%E5%AD%B8%E7%BF%92-%E7%AC%AC3-3%E8%AC%9B-%E7%B7%9A%E6%80%A7%E5%88%86%E9%A1%9E-%E9%82%8F%E8%BC%AF%E6%96%AF%E5%9B%9E%E6%AD%B8-logistic-regression-%E4%BB%8B%E7%B4%B9-a1a5f47017e5)\n",
    "\n",
    "[Logistics Regression 詳細介紹](https://medium.com/@yehjames/%E8%B3%87%E6%96%99%E5%88%86%E6%9E%90-%E6%A9%9F%E5%99%A8%E5%AD%B8%E7%BF%92-%E7%AC%AC3-3%E8%AC%9B-%E7%B7%9A%E6%80%A7%E5%88%86%E9%A1%9E-%E9%82%8F%E8%BC%AF%E6%96%AF%E5%9B%9E%E6%AD%B8-logistic-regression-%E4%BB%8B%E7%B4%B9-a1a5f47017e5)\n"
   ]
  },
  {
   "cell_type": "markdown",
   "metadata": {
    "colab_type": "text",
    "id": "IQNr05SEdx-R"
   },
   "source": [
    "1. 線性回歸模型能夠準確預測非線性關係的資料集嗎?\n",
    "Ans. 線性回歸面對著非線性關係的變數，不如其他模型那樣精確(如神經網絡)\n",
    "\n",
    "1. 若是線性回歸 Linear regression 是無法準確預測非線性的資料集的，即使有很多參數，仍然是使用線性的方式來擬和資料。所以當資料具有非線性的關係時，Linear Regression 的表現就會變差。Logistic Regression 雖然是[廣義的線性模型](https://www.zhihu.com/question/30726036)，但經過 Sigmoid 函數以及 kernel trick，是可以解決非線性問題的，這部分屬於較進階的課程，若有興趣可參考[1](https://zhuanlan.zhihu.com/p/30933101)、[2](https://www.zhihu.com/question/29385169)\n",
    "\n",
    "2. 回歸模型是否對資料分布有基本假設?\n",
    "Ans.\n",
    "回歸分析的五個基本假設\n",
    "1.線性性& 可加性\n",
    "2.誤差項（）之間應相互獨立。ε\n",
    "3.自變量（）之間應相互獨立。 X1，X2\n",
    "4.誤差項（）的方差應為常數。ε\n",
    "5.誤差項（）應呈正態分佈。ε\n",
    "\n",
    "通常對資料有五個基本假設[參考這裏](https://blog.csdn.net/Noob_daniel/article/details/76087829)"
   ]
  },
  {
   "cell_type": "code",
   "execution_count": 0,
   "metadata": {
    "colab": {},
    "colab_type": "code",
    "id": "oDHsLLTYdx-S"
   },
   "outputs": [],
   "source": []
  },
  {
   "cell_type": "code",
   "execution_count": null,
   "metadata": {},
   "outputs": [],
   "source": []
  }
 ],
 "metadata": {
  "colab": {
   "name": "Day_037_HW.ipynb",
   "provenance": [],
   "version": "0.3.2"
  },
  "kernelspec": {
   "display_name": "Python 3",
   "language": "python",
   "name": "python3"
  },
  "language_info": {
   "codemirror_mode": {
    "name": "ipython",
    "version": 3
   },
   "file_extension": ".py",
   "mimetype": "text/x-python",
   "name": "python",
   "nbconvert_exporter": "python",
   "pygments_lexer": "ipython3",
   "version": "3.7.3"
  }
 },
 "nbformat": 4,
 "nbformat_minor": 1
}
